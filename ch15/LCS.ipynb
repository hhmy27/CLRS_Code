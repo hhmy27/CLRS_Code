{
 "cells": [
  {
   "cell_type": "code",
   "source": [
    "import numpy as np\n",
    "import pandas as pd\n",
    "from IPython.display import display"
   ],
   "metadata": {
    "collapsed": false,
    "pycharm": {
     "name": "#%%\n"
    }
   },
   "execution_count": 10,
   "outputs": []
  },
  {
   "cell_type": "markdown",
   "source": [
    "## Code\n",
    "ref p393, ch p224"
   ],
   "metadata": {
    "collapsed": false,
    "pycharm": {
     "name": "#%% md\n"
    }
   }
  },
  {
   "cell_type": "code",
   "execution_count": 11,
   "outputs": [],
   "source": [
    "def LCS_LENGTH(X, Y):\n",
    "    # diff 1\n",
    "    m = len(X) + 1\n",
    "    n = len(Y) + 1\n",
    "    b = [[0 for i in range(n)] for i in range(m)]\n",
    "    c = [[0 for i in range(n)] for i in range(m)]\n",
    "\n",
    "    # diff 2\n",
    "    # for i in range(1, m):\n",
    "    #     c[i][0] = 0\n",
    "    # for j in range(n):\n",
    "    #     c[0][j] = 0\n",
    "\n",
    "    for i in range(1, m):\n",
    "        for j in range(1, n):\n",
    "            # diff 2\n",
    "            ti, tj = i - 1, j - 1\n",
    "            if X[ti] == Y[tj]:\n",
    "                c[i][j] = c[i - 1][j - 1] + 1\n",
    "                b[i][j] = 'UL'\n",
    "            else:\n",
    "                if c[i - 1][j] >= c[i][j - 1]:\n",
    "                    c[i][j] = c[i - 1][j]\n",
    "                    b[i][j] = 'U'\n",
    "                else:\n",
    "                    c[i][j] = c[i][j - 1]\n",
    "                    b[i][j] = \"L\"\n",
    "    return c, b\n",
    "\n",
    "def PRINT_LCS(b, X, i, j):\n",
    "    if i == 0 or j == 0:\n",
    "        return\n",
    "    if b[i][j] == 'UL':\n",
    "        PRINT_LCS(b, X, i - 1, j - 1)\n",
    "        print(X[i-1], end='')\n",
    "    elif b[i][j] == 'U':\n",
    "        PRINT_LCS(b, X, i - 1, j)\n",
    "    else:\n",
    "        PRINT_LCS(b, X, i, j - 1)"
   ],
   "metadata": {
    "collapsed": false,
    "pycharm": {
     "name": "#%%\n"
    }
   }
  },
  {
   "cell_type": "markdown",
   "source": [
    "## Case 1"
   ],
   "metadata": {
    "collapsed": false,
    "pycharm": {
     "name": "#%% md\n"
    }
   }
  },
  {
   "cell_type": "code",
   "execution_count": 12,
   "outputs": [
    {
     "data": {
      "text/plain": "   0   1   2   3   4   5   6\n0  0   0   0   0   0   0   0\n1  0   U   U   U  UL   L  UL\n2  0  UL   L   L   U  UL   L\n3  0   U   U  UL   L   U   U\n4  0  UL   U   U   U  UL   L\n5  0   U  UL   U   U   U   U\n6  0   U   U   U  UL   U  UL\n7  0  UL   U   U   U  UL   U",
      "text/html": "<div>\n<style scoped>\n    .dataframe tbody tr th:only-of-type {\n        vertical-align: middle;\n    }\n\n    .dataframe tbody tr th {\n        vertical-align: top;\n    }\n\n    .dataframe thead th {\n        text-align: right;\n    }\n</style>\n<table border=\"1\" class=\"dataframe\">\n  <thead>\n    <tr style=\"text-align: right;\">\n      <th></th>\n      <th>0</th>\n      <th>1</th>\n      <th>2</th>\n      <th>3</th>\n      <th>4</th>\n      <th>5</th>\n      <th>6</th>\n    </tr>\n  </thead>\n  <tbody>\n    <tr>\n      <th>0</th>\n      <td>0</td>\n      <td>0</td>\n      <td>0</td>\n      <td>0</td>\n      <td>0</td>\n      <td>0</td>\n      <td>0</td>\n    </tr>\n    <tr>\n      <th>1</th>\n      <td>0</td>\n      <td>U</td>\n      <td>U</td>\n      <td>U</td>\n      <td>UL</td>\n      <td>L</td>\n      <td>UL</td>\n    </tr>\n    <tr>\n      <th>2</th>\n      <td>0</td>\n      <td>UL</td>\n      <td>L</td>\n      <td>L</td>\n      <td>U</td>\n      <td>UL</td>\n      <td>L</td>\n    </tr>\n    <tr>\n      <th>3</th>\n      <td>0</td>\n      <td>U</td>\n      <td>U</td>\n      <td>UL</td>\n      <td>L</td>\n      <td>U</td>\n      <td>U</td>\n    </tr>\n    <tr>\n      <th>4</th>\n      <td>0</td>\n      <td>UL</td>\n      <td>U</td>\n      <td>U</td>\n      <td>U</td>\n      <td>UL</td>\n      <td>L</td>\n    </tr>\n    <tr>\n      <th>5</th>\n      <td>0</td>\n      <td>U</td>\n      <td>UL</td>\n      <td>U</td>\n      <td>U</td>\n      <td>U</td>\n      <td>U</td>\n    </tr>\n    <tr>\n      <th>6</th>\n      <td>0</td>\n      <td>U</td>\n      <td>U</td>\n      <td>U</td>\n      <td>UL</td>\n      <td>U</td>\n      <td>UL</td>\n    </tr>\n    <tr>\n      <th>7</th>\n      <td>0</td>\n      <td>UL</td>\n      <td>U</td>\n      <td>U</td>\n      <td>U</td>\n      <td>UL</td>\n      <td>U</td>\n    </tr>\n  </tbody>\n</table>\n</div>"
     },
     "metadata": {},
     "output_type": "display_data"
    },
    {
     "data": {
      "text/plain": "   0  1  2  3  4  5  6\n0  0  0  0  0  0  0  0\n1  0  0  0  0  1  1  1\n2  0  1  1  1  1  2  2\n3  0  1  1  2  2  2  2\n4  0  1  1  2  2  3  3\n5  0  1  2  2  2  3  3\n6  0  1  2  2  3  3  4\n7  0  1  2  2  3  4  4",
      "text/html": "<div>\n<style scoped>\n    .dataframe tbody tr th:only-of-type {\n        vertical-align: middle;\n    }\n\n    .dataframe tbody tr th {\n        vertical-align: top;\n    }\n\n    .dataframe thead th {\n        text-align: right;\n    }\n</style>\n<table border=\"1\" class=\"dataframe\">\n  <thead>\n    <tr style=\"text-align: right;\">\n      <th></th>\n      <th>0</th>\n      <th>1</th>\n      <th>2</th>\n      <th>3</th>\n      <th>4</th>\n      <th>5</th>\n      <th>6</th>\n    </tr>\n  </thead>\n  <tbody>\n    <tr>\n      <th>0</th>\n      <td>0</td>\n      <td>0</td>\n      <td>0</td>\n      <td>0</td>\n      <td>0</td>\n      <td>0</td>\n      <td>0</td>\n    </tr>\n    <tr>\n      <th>1</th>\n      <td>0</td>\n      <td>0</td>\n      <td>0</td>\n      <td>0</td>\n      <td>1</td>\n      <td>1</td>\n      <td>1</td>\n    </tr>\n    <tr>\n      <th>2</th>\n      <td>0</td>\n      <td>1</td>\n      <td>1</td>\n      <td>1</td>\n      <td>1</td>\n      <td>2</td>\n      <td>2</td>\n    </tr>\n    <tr>\n      <th>3</th>\n      <td>0</td>\n      <td>1</td>\n      <td>1</td>\n      <td>2</td>\n      <td>2</td>\n      <td>2</td>\n      <td>2</td>\n    </tr>\n    <tr>\n      <th>4</th>\n      <td>0</td>\n      <td>1</td>\n      <td>1</td>\n      <td>2</td>\n      <td>2</td>\n      <td>3</td>\n      <td>3</td>\n    </tr>\n    <tr>\n      <th>5</th>\n      <td>0</td>\n      <td>1</td>\n      <td>2</td>\n      <td>2</td>\n      <td>2</td>\n      <td>3</td>\n      <td>3</td>\n    </tr>\n    <tr>\n      <th>6</th>\n      <td>0</td>\n      <td>1</td>\n      <td>2</td>\n      <td>2</td>\n      <td>3</td>\n      <td>3</td>\n      <td>4</td>\n    </tr>\n    <tr>\n      <th>7</th>\n      <td>0</td>\n      <td>1</td>\n      <td>2</td>\n      <td>2</td>\n      <td>3</td>\n      <td>4</td>\n      <td>4</td>\n    </tr>\n  </tbody>\n</table>\n</div>"
     },
     "metadata": {},
     "output_type": "display_data"
    },
    {
     "name": "stdout",
     "output_type": "stream",
     "text": [
      "4\n",
      "BCBA"
     ]
    }
   ],
   "source": [
    "X = ['A','B','C','B','D','A','B']\n",
    "Y = ['B','D','C','A','B','A']\n",
    "\n",
    "c,b = LCS_LENGTH(X,Y)\n",
    "\n",
    "display(pd.DataFrame(b))\n",
    "display(pd.DataFrame(c))\n",
    "\n",
    "ans = c[-1][-1]\n",
    "print(ans)\n",
    "\n",
    "PRINT_LCS(b,X,len(X),len(Y))"
   ],
   "metadata": {
    "collapsed": false,
    "pycharm": {
     "name": "#%%\n"
    }
   }
  },
  {
   "cell_type": "markdown",
   "source": [
    "## Case 2"
   ],
   "metadata": {
    "collapsed": false,
    "pycharm": {
     "name": "#%% md\n"
    }
   }
  },
  {
   "cell_type": "code",
   "execution_count": 19,
   "outputs": [
    {
     "data": {
      "text/plain": "   0   1   2   3   4   5\n0  0   0   0   0   0   0\n1  0  UL   L   L   L  UL\n2  0   U   U  UL   L   L\n3  0   U  UL   U   U   U\n4  0   U   U   U  UL   L\n5  0  UL   U   U   U  UL",
      "text/html": "<div>\n<style scoped>\n    .dataframe tbody tr th:only-of-type {\n        vertical-align: middle;\n    }\n\n    .dataframe tbody tr th {\n        vertical-align: top;\n    }\n\n    .dataframe thead th {\n        text-align: right;\n    }\n</style>\n<table border=\"1\" class=\"dataframe\">\n  <thead>\n    <tr style=\"text-align: right;\">\n      <th></th>\n      <th>0</th>\n      <th>1</th>\n      <th>2</th>\n      <th>3</th>\n      <th>4</th>\n      <th>5</th>\n    </tr>\n  </thead>\n  <tbody>\n    <tr>\n      <th>0</th>\n      <td>0</td>\n      <td>0</td>\n      <td>0</td>\n      <td>0</td>\n      <td>0</td>\n      <td>0</td>\n    </tr>\n    <tr>\n      <th>1</th>\n      <td>0</td>\n      <td>UL</td>\n      <td>L</td>\n      <td>L</td>\n      <td>L</td>\n      <td>UL</td>\n    </tr>\n    <tr>\n      <th>2</th>\n      <td>0</td>\n      <td>U</td>\n      <td>U</td>\n      <td>UL</td>\n      <td>L</td>\n      <td>L</td>\n    </tr>\n    <tr>\n      <th>3</th>\n      <td>0</td>\n      <td>U</td>\n      <td>UL</td>\n      <td>U</td>\n      <td>U</td>\n      <td>U</td>\n    </tr>\n    <tr>\n      <th>4</th>\n      <td>0</td>\n      <td>U</td>\n      <td>U</td>\n      <td>U</td>\n      <td>UL</td>\n      <td>L</td>\n    </tr>\n    <tr>\n      <th>5</th>\n      <td>0</td>\n      <td>UL</td>\n      <td>U</td>\n      <td>U</td>\n      <td>U</td>\n      <td>UL</td>\n    </tr>\n  </tbody>\n</table>\n</div>"
     },
     "metadata": {},
     "output_type": "display_data"
    },
    {
     "data": {
      "text/plain": "   0  1  2  3  4  5\n0  0  0  0  0  0  0\n1  0  1  1  1  1  1\n2  0  1  1  2  2  2\n3  0  1  2  2  2  2\n4  0  1  2  2  3  3\n5  0  1  2  2  3  4",
      "text/html": "<div>\n<style scoped>\n    .dataframe tbody tr th:only-of-type {\n        vertical-align: middle;\n    }\n\n    .dataframe tbody tr th {\n        vertical-align: top;\n    }\n\n    .dataframe thead th {\n        text-align: right;\n    }\n</style>\n<table border=\"1\" class=\"dataframe\">\n  <thead>\n    <tr style=\"text-align: right;\">\n      <th></th>\n      <th>0</th>\n      <th>1</th>\n      <th>2</th>\n      <th>3</th>\n      <th>4</th>\n      <th>5</th>\n    </tr>\n  </thead>\n  <tbody>\n    <tr>\n      <th>0</th>\n      <td>0</td>\n      <td>0</td>\n      <td>0</td>\n      <td>0</td>\n      <td>0</td>\n      <td>0</td>\n    </tr>\n    <tr>\n      <th>1</th>\n      <td>0</td>\n      <td>1</td>\n      <td>1</td>\n      <td>1</td>\n      <td>1</td>\n      <td>1</td>\n    </tr>\n    <tr>\n      <th>2</th>\n      <td>0</td>\n      <td>1</td>\n      <td>1</td>\n      <td>2</td>\n      <td>2</td>\n      <td>2</td>\n    </tr>\n    <tr>\n      <th>3</th>\n      <td>0</td>\n      <td>1</td>\n      <td>2</td>\n      <td>2</td>\n      <td>2</td>\n      <td>2</td>\n    </tr>\n    <tr>\n      <th>4</th>\n      <td>0</td>\n      <td>1</td>\n      <td>2</td>\n      <td>2</td>\n      <td>3</td>\n      <td>3</td>\n    </tr>\n    <tr>\n      <th>5</th>\n      <td>0</td>\n      <td>1</td>\n      <td>2</td>\n      <td>2</td>\n      <td>3</td>\n      <td>4</td>\n    </tr>\n  </tbody>\n</table>\n</div>"
     },
     "metadata": {},
     "output_type": "display_data"
    },
    {
     "name": "stdout",
     "output_type": "stream",
     "text": [
      "4\n",
      "ABCA"
     ]
    }
   ],
   "source": [
    "X = ['A','B','D','C','A']\n",
    "Y = ['A','D','B','C','A']\n",
    "\n",
    "c,b = LCS_LENGTH(X,Y)\n",
    "\n",
    "display(pd.DataFrame(b))\n",
    "display(pd.DataFrame(c))\n",
    "\n",
    "ans = c[-1][-1]\n",
    "print(ans)\n",
    "\n",
    "PRINT_LCS(b,X,len(X),len(Y))"
   ],
   "metadata": {
    "collapsed": false,
    "pycharm": {
     "name": "#%%\n"
    }
   }
  },
  {
   "cell_type": "markdown",
   "source": [
    "## Case 3"
   ],
   "metadata": {
    "collapsed": false,
    "pycharm": {
     "name": "#%% md\n"
    }
   }
  },
  {
   "cell_type": "code",
   "execution_count": 23,
   "outputs": [
    {
     "data": {
      "text/plain": "   0   1   2   3   4   5   6   7   8   9\n0  0   0   0   0   0   0   0   0   0   0\n1  0   U  UL   L  UL  UL   L  UL  UL   L\n2  0  UL   U  UL   L   L  UL   L   L  UL\n3  0  UL   U  UL   U   U  UL   L   L  UL\n4  0   U  UL   U  UL  UL   U  UL  UL   L\n5  0  UL   U  UL   U   U  UL   U   U  UL\n6  0   U  UL   U  UL  UL   U  UL  UL   U\n7  0  UL   U  UL   U   U  UL   U   U  UL\n8  0   U  UL   U  UL  UL   U  UL  UL   U",
      "text/html": "<div>\n<style scoped>\n    .dataframe tbody tr th:only-of-type {\n        vertical-align: middle;\n    }\n\n    .dataframe tbody tr th {\n        vertical-align: top;\n    }\n\n    .dataframe thead th {\n        text-align: right;\n    }\n</style>\n<table border=\"1\" class=\"dataframe\">\n  <thead>\n    <tr style=\"text-align: right;\">\n      <th></th>\n      <th>0</th>\n      <th>1</th>\n      <th>2</th>\n      <th>3</th>\n      <th>4</th>\n      <th>5</th>\n      <th>6</th>\n      <th>7</th>\n      <th>8</th>\n      <th>9</th>\n    </tr>\n  </thead>\n  <tbody>\n    <tr>\n      <th>0</th>\n      <td>0</td>\n      <td>0</td>\n      <td>0</td>\n      <td>0</td>\n      <td>0</td>\n      <td>0</td>\n      <td>0</td>\n      <td>0</td>\n      <td>0</td>\n      <td>0</td>\n    </tr>\n    <tr>\n      <th>1</th>\n      <td>0</td>\n      <td>U</td>\n      <td>UL</td>\n      <td>L</td>\n      <td>UL</td>\n      <td>UL</td>\n      <td>L</td>\n      <td>UL</td>\n      <td>UL</td>\n      <td>L</td>\n    </tr>\n    <tr>\n      <th>2</th>\n      <td>0</td>\n      <td>UL</td>\n      <td>U</td>\n      <td>UL</td>\n      <td>L</td>\n      <td>L</td>\n      <td>UL</td>\n      <td>L</td>\n      <td>L</td>\n      <td>UL</td>\n    </tr>\n    <tr>\n      <th>3</th>\n      <td>0</td>\n      <td>UL</td>\n      <td>U</td>\n      <td>UL</td>\n      <td>U</td>\n      <td>U</td>\n      <td>UL</td>\n      <td>L</td>\n      <td>L</td>\n      <td>UL</td>\n    </tr>\n    <tr>\n      <th>4</th>\n      <td>0</td>\n      <td>U</td>\n      <td>UL</td>\n      <td>U</td>\n      <td>UL</td>\n      <td>UL</td>\n      <td>U</td>\n      <td>UL</td>\n      <td>UL</td>\n      <td>L</td>\n    </tr>\n    <tr>\n      <th>5</th>\n      <td>0</td>\n      <td>UL</td>\n      <td>U</td>\n      <td>UL</td>\n      <td>U</td>\n      <td>U</td>\n      <td>UL</td>\n      <td>U</td>\n      <td>U</td>\n      <td>UL</td>\n    </tr>\n    <tr>\n      <th>6</th>\n      <td>0</td>\n      <td>U</td>\n      <td>UL</td>\n      <td>U</td>\n      <td>UL</td>\n      <td>UL</td>\n      <td>U</td>\n      <td>UL</td>\n      <td>UL</td>\n      <td>U</td>\n    </tr>\n    <tr>\n      <th>7</th>\n      <td>0</td>\n      <td>UL</td>\n      <td>U</td>\n      <td>UL</td>\n      <td>U</td>\n      <td>U</td>\n      <td>UL</td>\n      <td>U</td>\n      <td>U</td>\n      <td>UL</td>\n    </tr>\n    <tr>\n      <th>8</th>\n      <td>0</td>\n      <td>U</td>\n      <td>UL</td>\n      <td>U</td>\n      <td>UL</td>\n      <td>UL</td>\n      <td>U</td>\n      <td>UL</td>\n      <td>UL</td>\n      <td>U</td>\n    </tr>\n  </tbody>\n</table>\n</div>"
     },
     "metadata": {},
     "output_type": "display_data"
    },
    {
     "data": {
      "text/plain": "   0  1  2  3  4  5  6  7  8  9\n0  0  0  0  0  0  0  0  0  0  0\n1  0  0  1  1  1  1  1  1  1  1\n2  0  1  1  2  2  2  2  2  2  2\n3  0  1  1  2  2  2  3  3  3  3\n4  0  1  2  2  3  3  3  4  4  4\n5  0  1  2  3  3  3  4  4  4  5\n6  0  1  2  3  4  4  4  5  5  5\n7  0  1  2  3  4  4  5  5  5  6\n8  0  1  2  3  4  5  5  6  6  6",
      "text/html": "<div>\n<style scoped>\n    .dataframe tbody tr th:only-of-type {\n        vertical-align: middle;\n    }\n\n    .dataframe tbody tr th {\n        vertical-align: top;\n    }\n\n    .dataframe thead th {\n        text-align: right;\n    }\n</style>\n<table border=\"1\" class=\"dataframe\">\n  <thead>\n    <tr style=\"text-align: right;\">\n      <th></th>\n      <th>0</th>\n      <th>1</th>\n      <th>2</th>\n      <th>3</th>\n      <th>4</th>\n      <th>5</th>\n      <th>6</th>\n      <th>7</th>\n      <th>8</th>\n      <th>9</th>\n    </tr>\n  </thead>\n  <tbody>\n    <tr>\n      <th>0</th>\n      <td>0</td>\n      <td>0</td>\n      <td>0</td>\n      <td>0</td>\n      <td>0</td>\n      <td>0</td>\n      <td>0</td>\n      <td>0</td>\n      <td>0</td>\n      <td>0</td>\n    </tr>\n    <tr>\n      <th>1</th>\n      <td>0</td>\n      <td>0</td>\n      <td>1</td>\n      <td>1</td>\n      <td>1</td>\n      <td>1</td>\n      <td>1</td>\n      <td>1</td>\n      <td>1</td>\n      <td>1</td>\n    </tr>\n    <tr>\n      <th>2</th>\n      <td>0</td>\n      <td>1</td>\n      <td>1</td>\n      <td>2</td>\n      <td>2</td>\n      <td>2</td>\n      <td>2</td>\n      <td>2</td>\n      <td>2</td>\n      <td>2</td>\n    </tr>\n    <tr>\n      <th>3</th>\n      <td>0</td>\n      <td>1</td>\n      <td>1</td>\n      <td>2</td>\n      <td>2</td>\n      <td>2</td>\n      <td>3</td>\n      <td>3</td>\n      <td>3</td>\n      <td>3</td>\n    </tr>\n    <tr>\n      <th>4</th>\n      <td>0</td>\n      <td>1</td>\n      <td>2</td>\n      <td>2</td>\n      <td>3</td>\n      <td>3</td>\n      <td>3</td>\n      <td>4</td>\n      <td>4</td>\n      <td>4</td>\n    </tr>\n    <tr>\n      <th>5</th>\n      <td>0</td>\n      <td>1</td>\n      <td>2</td>\n      <td>3</td>\n      <td>3</td>\n      <td>3</td>\n      <td>4</td>\n      <td>4</td>\n      <td>4</td>\n      <td>5</td>\n    </tr>\n    <tr>\n      <th>6</th>\n      <td>0</td>\n      <td>1</td>\n      <td>2</td>\n      <td>3</td>\n      <td>4</td>\n      <td>4</td>\n      <td>4</td>\n      <td>5</td>\n      <td>5</td>\n      <td>5</td>\n    </tr>\n    <tr>\n      <th>7</th>\n      <td>0</td>\n      <td>1</td>\n      <td>2</td>\n      <td>3</td>\n      <td>4</td>\n      <td>4</td>\n      <td>5</td>\n      <td>5</td>\n      <td>5</td>\n      <td>6</td>\n    </tr>\n    <tr>\n      <th>8</th>\n      <td>0</td>\n      <td>1</td>\n      <td>2</td>\n      <td>3</td>\n      <td>4</td>\n      <td>5</td>\n      <td>5</td>\n      <td>6</td>\n      <td>6</td>\n      <td>6</td>\n    </tr>\n  </tbody>\n</table>\n</div>"
     },
     "metadata": {},
     "output_type": "display_data"
    },
    {
     "name": "stdout",
     "output_type": "stream",
     "text": [
      "6\n",
      "100110"
     ]
    }
   ],
   "source": [
    "X = ['1', '0', '0', '1', '0', '1', '0', '1']\n",
    "Y = ['0', '1', '0', '1', '1', '0', '1', '1', '0']\n",
    "\n",
    "\n",
    "c,b = LCS_LENGTH(X,Y)\n",
    "\n",
    "display(pd.DataFrame(b))\n",
    "display(pd.DataFrame(c))\n",
    "\n",
    "ans = c[-1][-1]\n",
    "print(ans)\n",
    "\n",
    "PRINT_LCS(b,X,len(X),len(Y))"
   ],
   "metadata": {
    "collapsed": false,
    "pycharm": {
     "name": "#%%\n"
    }
   }
  },
  {
   "cell_type": "markdown",
   "source": [
    "## Exercise"
   ],
   "metadata": {
    "collapsed": false,
    "pycharm": {
     "name": "#%% md\n"
    }
   }
  },
  {
   "cell_type": "code",
   "execution_count": 25,
   "outputs": [
    {
     "name": "stdout",
     "output_type": "stream",
     "text": [
      "101011\n"
     ]
    }
   ],
   "source": [
    "# 2\n",
    "def REFACTOR_LCS(c, X, Y):\n",
    "    lcs = []\n",
    "    i, j = len(X), len(Y)\n",
    "    while i != 0 and j != 0:\n",
    "        if c[i][j] == c[i - 1][j - 1] + 1:\n",
    "            lcs.append(X[i - 1])\n",
    "            i -= 1\n",
    "            j -= 1\n",
    "        elif c[i][j] == c[i - 1][j]:\n",
    "            i -= 1\n",
    "        else:\n",
    "            j -= 1\n",
    "    return ''.join(lcs[::-1])\n",
    "\n",
    "\n",
    "print(REFACTOR_LCS(c, X, Y))\n"
   ],
   "metadata": {
    "collapsed": false,
    "pycharm": {
     "name": "#%%\n"
    }
   }
  },
  {
   "cell_type": "code",
   "execution_count": 24,
   "outputs": [
    {
     "name": "stdout",
     "output_type": "stream",
     "text": [
      "6\n"
     ]
    }
   ],
   "source": [
    "# 3\n",
    "def MEMO_LCS_LENGTH(X, Y):\n",
    "    m, n = len(X) + 1, len(Y) + 1\n",
    "\n",
    "    b = [[0 for i in range(n)] for i in range(m)]\n",
    "    c = [[0 for i in range(n)] for i in range(m)]\n",
    "\n",
    "    def __LCS_LENGTH(i, j):\n",
    "        if i == 0 or j == 0:\n",
    "            return 0\n",
    "        if b[i][j] != 0:\n",
    "            return b[i][j]\n",
    "        else:\n",
    "            if X[i - 1] == Y[j - 1]:\n",
    "                b[i][j] = __LCS_LENGTH(i - 1, j - 1) + 1\n",
    "                c[i][j] = 'UL'\n",
    "            else:\n",
    "                if __LCS_LENGTH(i-1,j)>= __LCS_LENGTH(i,j-1):\n",
    "                    b[i][j] = __LCS_LENGTH(i-1,j)\n",
    "                    c[i][j] = 'L'\n",
    "                else:\n",
    "                    b[i][j] = __LCS_LENGTH(i,j-1)\n",
    "                    c[i][j] = 'U'\n",
    "            return b[i][j]\n",
    "\n",
    "    ans = __LCS_LENGTH(m - 1, n - 1)\n",
    "    # display(pd.DataFrame(b))\n",
    "    return ans\n",
    "\n",
    "print(MEMO_LCS_LENGTH(X, Y))"
   ],
   "metadata": {
    "collapsed": false,
    "pycharm": {
     "name": "#%%\n"
    }
   }
  },
  {
   "cell_type": "code",
   "execution_count": null,
   "outputs": [],
   "source": [
    "# 4 ref: https://blog.csdn.net/qq_37341466/article/details/83036039\n",
    "# 4.1\n",
    "def OPT_LCS_LENGTH_1(X, Y):\n",
    "    m, n = len(X), len(Y)\n",
    "    dp = [[0 for i in range(n + 1)] for i in range(2)]\n",
    "    cur = 1\n",
    "    pre = 0\n",
    "    for i in range(1, m + 1):\n",
    "        for j in range(1, n + 1):\n",
    "            if X[i - 1] == Y[j - 1]:\n",
    "                dp[cur][j] = dp[pre][j - 1] + 1\n",
    "            else:\n",
    "                dp[cur][j] = max(dp[cur][j - 1], dp[pre][j])\n",
    "        cur, pre = pre, cur\n",
    "\n",
    "    return dp[pre][-1]\n",
    "\n",
    "\n",
    "print(OPT_LCS_LENGTH_1(X, Y))\n",
    "\n",
    "\n",
    "# 4.2\n",
    "def OPT_LCS_LENGTH_2(X, Y):\n",
    "    m, n = len(X), len(Y)\n",
    "    dp = [0 for i in range(n + 1)]\n",
    "    cur = 1\n",
    "    pre = 0\n",
    "    for i in range(1, m + 1):\n",
    "        old = dp[0]\n",
    "        for j in range(1, n + 1):\n",
    "            tmp = dp[j]\n",
    "            if X[i - 1] == Y[j - 1]:\n",
    "                dp[j] = old + 1\n",
    "            else:\n",
    "                dp[j] = max(dp[j - 1], dp[j])\n",
    "            old = tmp\n",
    "        cur, pre = pre, cur\n",
    "\n",
    "    return dp[-1]\n",
    "\n",
    "print(OPT_LCS_LENGTH_2(X, Y))"
   ],
   "metadata": {
    "collapsed": false,
    "pycharm": {
     "name": "#%%\n"
    }
   }
  },
  {
   "cell_type": "code",
   "execution_count": null,
   "outputs": [],
   "source": [
    "# 5\n",
    "# it is LIS problem, ref:\n",
    "# https://www.cnblogs.com/sunjianzhao/p/13543757.html\n",
    "# https://en.wikipedia.org/wiki/Longest_increasing_subsequence\n",
    "\n",
    "def LIS_nn_1(s):\n",
    "    n = len(s)\n",
    "    f = [1 for _ in range(n)]\n",
    "    for i in range(1,n):\n",
    "        for j in range(i):\n",
    "            if s[i]>s[j]:\n",
    "                f[i] = max(f[i],f[j]+1)\n",
    "    return f[-1]\n",
    "def LIS_nn_2(s):\n",
    "    y = sorted(s)\n",
    "    return OPT_LCS_LENGTH_1(s,y)\n",
    "\n",
    "s = [4,2,3,1,5,6]\n",
    "print(LIS_nn_1(s))\n",
    "print(LIS_nn_2(s))"
   ],
   "metadata": {
    "collapsed": false,
    "pycharm": {
     "name": "#%%\n"
    }
   }
  },
  {
   "cell_type": "markdown",
   "source": [
    "thread:\n",
    "LIS is **increasing sequence**\n",
    "\n",
    "assume we have a part of LIS **f**,and we still have some remain element\n",
    "\n",
    "for every remain element s[i] we meet\n",
    "\n",
    "if s[i] > f[-1],we append it to **f** of course\n",
    "\n",
    "but when s[i] < f[-1], notice we get a smaller element s[i]\n",
    "\n",
    "we want to get longest increasing sequence, now we get a smaller element s[i], we can\n",
    "replace a element in **f** which bigger than s[i].\n",
    "\n",
    "why we need replace element? notice a smaller number in **f** can offer more space to construct LIS.\n",
    "for this case: `s = [9,1,2,3]` this LIS is `[1,2,3]`, if we keep first element `9` in our LIS, it will haven't not space\n",
    "to store remain element.\n",
    "\n",
    "how to find the element which will replace? notice LIS is increasing number, we can use binary search to help us to find this element\n",
    "\n",
    "notice `f` just store length information, the element in `f` is not FIS element"
   ],
   "metadata": {
    "collapsed": false,
    "pycharm": {
     "name": "#%% md\n"
    }
   }
  },
  {
   "cell_type": "code",
   "execution_count": null,
   "outputs": [],
   "source": [
    "# 6\n",
    "def LIS_nlogn(s):\n",
    "    n = len(s)\n",
    "    size = 0\n",
    "    f = [0 for i in range(n)]\n",
    "    f[0] = s[0]\n",
    "    for i in range(1,n):\n",
    "        if s[i] > f[size]:\n",
    "            size += 1\n",
    "            f[size] = s[i]\n",
    "        else:\n",
    "            l,r = 0,size\n",
    "            while l<r:\n",
    "                mid = (l+r) // 2\n",
    "                if f[mid] < s[i]:\n",
    "                    l = mid+1\n",
    "                else:\n",
    "                    r = mid\n",
    "            f[l] = s[i]\n",
    "\n",
    "    # print(f)\n",
    "    # while size:\n",
    "    #     if f[size]>0:\n",
    "    #         return size + 1\n",
    "    #     size -= 1\n",
    "    return size+1\n",
    "\n",
    "# s = [4,2,3,1,5,6]\n",
    "s = [0,8,4,12,2,10,6,14,1,9,5,13,3,11,7,15]\n",
    "# s = [1,2,3]\n",
    "print(LIS_nlogn(s))"
   ],
   "metadata": {
    "collapsed": false,
    "pycharm": {
     "name": "#%%\n"
    }
   }
  },
  {
   "cell_type": "markdown",
   "source": [
    "## leetcode\n",
    "\n",
    "1143\\. Longest Common Subsequence\n",
    "https://leetcode.com/problems/lon1gest-common-subsequence/\n",
    "\n",
    "300\\. Longest Increasing Subsequence\n",
    "https://leetcode.com/problems/longest-increasing-subsequence/"
   ],
   "metadata": {
    "collapsed": false,
    "pycharm": {
     "name": "#%% md\n"
    }
   }
  }
 ],
 "metadata": {
  "kernelspec": {
   "display_name": "Python 3",
   "language": "python",
   "name": "python3"
  },
  "language_info": {
   "codemirror_mode": {
    "name": "ipython",
    "version": 2
   },
   "file_extension": ".py",
   "mimetype": "text/x-python",
   "name": "python",
   "nbconvert_exporter": "python",
   "pygments_lexer": "ipython2",
   "version": "2.7.6"
  }
 },
 "nbformat": 4,
 "nbformat_minor": 0
}