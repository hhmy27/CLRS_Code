{
 "cells": [
  {
   "cell_type": "markdown",
   "metadata": {},
   "source": [
    "## Code\n",
    "\n",
    "ref p362,ch p206"
   ]
  },
  {
   "cell_type": "code",
   "execution_count": 55,
   "metadata": {},
   "outputs": [],
   "source": [
    "# O(2^n)\n",
    "def CUT_ROD(p, n):\n",
    "    if n == 0:\n",
    "        return 0\n",
    "    q = float('-inf')\n",
    "    for i in range(1, n + 1):\n",
    "        q = max(q, p[i] + CUT_ROD(p, n - i))\n",
    "    return q\n",
    "\n",
    "\n",
    "# O(n)\n",
    "def MEMOIZED_CUT_ROD(p, n):\n",
    "    r = [0] * (n + 1)\n",
    "    for i in range(n + 1):\n",
    "        r[i] = float('-inf')\n",
    "    return MEMOIZED_CUT_ROD_AUX(p, n, r)\n",
    "\n",
    "\n",
    "def MEMOIZED_CUT_ROD_AUX(p, n, r):\n",
    "    if r[n] >= 0:\n",
    "        return r[n]\n",
    "    if n == 0:\n",
    "        q = 0\n",
    "    else:\n",
    "        q = float('-inf')\n",
    "        for i in range(1, n + 1):\n",
    "            q = max(q, p[i] + MEMOIZED_CUT_ROD_AUX(p, n - i, r))\n",
    "    r[n] = q\n",
    "    return q\n",
    "\n",
    "\n",
    "# O(n)\n",
    "def BOTTOM_UP_CUT_ROD(p, n):\n",
    "    r = [0] * (n + 1)\n",
    "    r[0] = 0\n",
    "    for j in range(1, n + 1):\n",
    "        q = float('-inf')\n",
    "        for i in range(1, j + 1):\n",
    "            q = max(q, p[i] + r[j - i])\n",
    "        r[j] = q\n",
    "    return r[n]\n",
    "\n",
    "def EXTENDED_BOTTOM_UP_CUT_ROD(p, n):\n",
    "    r = [0] * (n + 1)\n",
    "    s = [0] * (n + 1)\n",
    "    r[0] = 0\n",
    "    for j in range(1, n + 1):\n",
    "        q = float('-inf')\n",
    "        for i in range(1, j + 1):\n",
    "            if q < p[i] + r[j - i]:\n",
    "                q = p[i] + r[j - i]\n",
    "                s[j] = i\n",
    "            r[j] = q\n",
    "    return r, s\n",
    "\n",
    "def PRINT_CUT_ROD_SOLUTION(p,n):\n",
    "    r,s = EXTENDED_BOTTOM_UP_CUT_ROD(p,n)\n",
    "    print(s)\n",
    "    while n>0:\n",
    "        print(s[n])\n",
    "        n = n - s[n]"
   ]
  },
  {
   "cell_type": "markdown",
   "source": [
    "## Case 1\n",
    "notice: $p_i$(i=1, 2, ..., n)"
   ],
   "metadata": {
    "collapsed": false,
    "pycharm": {
     "name": "#%% md\n"
    }
   }
  },
  {
   "cell_type": "code",
   "execution_count": 57,
   "outputs": [
    {
     "name": "stdout",
     "output_type": "stream",
     "text": [
      "25\n",
      "25\n",
      "25\n",
      "[0, 1, 2, 3, 2, 2, 6, 1, 2, 3]\n",
      "3\n",
      "6\n"
     ]
    }
   ],
   "source": [
    "p = [0,1,5,8,9,10,17,17,20,24,30]\n",
    "\n",
    "n1 = 9\n",
    "print(BOTTOM_UP_CUT_ROD(p,n1))\n",
    "print(MEMOIZED_CUT_ROD(p,n1))\n",
    "print(CUT_ROD(p,n1))\n",
    "\n",
    "PRINT_CUT_ROD_SOLUTION(p,9)"
   ],
   "metadata": {
    "collapsed": false,
    "pycharm": {
     "name": "#%%\n"
    }
   }
  },
  {
   "cell_type": "code",
   "execution_count": null,
   "outputs": [],
   "source": [],
   "metadata": {
    "collapsed": false,
    "pycharm": {
     "name": "#%%\n"
    }
   }
  }
 ],
 "metadata": {
  "kernelspec": {
   "name": "clrs_code",
   "language": "python",
   "display_name": "CLRS_Code"
  }
 },
 "nbformat": 4,
 "nbformat_minor": 4
}